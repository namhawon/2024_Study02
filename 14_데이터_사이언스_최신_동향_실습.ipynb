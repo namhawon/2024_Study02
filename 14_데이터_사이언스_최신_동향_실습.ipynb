{
  "nbformat": 4,
  "nbformat_minor": 0,
  "metadata": {
    "colab": {
      "provenance": [],
      "include_colab_link": true
    },
    "kernelspec": {
      "name": "python3",
      "display_name": "Python 3"
    },
    "language_info": {
      "name": "python"
    }
  },
  "cells": [
    {
      "cell_type": "markdown",
      "metadata": {
        "id": "view-in-github",
        "colab_type": "text"
      },
      "source": [
        "<a href=\"https://colab.research.google.com/github/namhawon/2024_Study02/blob/main/14_%EB%8D%B0%EC%9D%B4%ED%84%B0_%EC%82%AC%EC%9D%B4%EC%96%B8%EC%8A%A4_%EC%B5%9C%EC%8B%A0_%EB%8F%99%ED%96%A5_%EC%8B%A4%EC%8A%B5.ipynb\" target=\"_parent\"><img src=\"https://colab.research.google.com/assets/colab-badge.svg\" alt=\"Open In Colab\"/></a>"
      ]
    },
    {
      "cell_type": "markdown",
      "source": [
        "# **GPT API로 데이터 전처리하기**"
      ],
      "metadata": {
        "id": "zFwAzCaQU3yB"
      }
    },
    {
      "cell_type": "code",
      "execution_count": null,
      "metadata": {
        "colab": {
          "base_uri": "https://localhost:8080/"
        },
        "id": "o9BjvRzQN7Jl",
        "outputId": "7ad3335f-28f8-40d7-9533-1b42c024ec05"
      },
      "outputs": [
        {
          "output_type": "stream",
          "name": "stdout",
          "text": [
            "Collecting openai\n",
            "  Downloading openai-1.37.1-py3-none-any.whl.metadata (22 kB)\n",
            "Requirement already satisfied: anyio<5,>=3.5.0 in /usr/local/lib/python3.10/dist-packages (from openai) (3.7.1)\n",
            "Requirement already satisfied: distro<2,>=1.7.0 in /usr/lib/python3/dist-packages (from openai) (1.7.0)\n",
            "Collecting httpx<1,>=0.23.0 (from openai)\n",
            "  Downloading httpx-0.27.0-py3-none-any.whl.metadata (7.2 kB)\n",
            "Requirement already satisfied: pydantic<3,>=1.9.0 in /usr/local/lib/python3.10/dist-packages (from openai) (2.8.2)\n",
            "Requirement already satisfied: sniffio in /usr/local/lib/python3.10/dist-packages (from openai) (1.3.1)\n",
            "Requirement already satisfied: tqdm>4 in /usr/local/lib/python3.10/dist-packages (from openai) (4.66.4)\n",
            "Requirement already satisfied: typing-extensions<5,>=4.7 in /usr/local/lib/python3.10/dist-packages (from openai) (4.12.2)\n",
            "Requirement already satisfied: idna>=2.8 in /usr/local/lib/python3.10/dist-packages (from anyio<5,>=3.5.0->openai) (3.7)\n",
            "Requirement already satisfied: exceptiongroup in /usr/local/lib/python3.10/dist-packages (from anyio<5,>=3.5.0->openai) (1.2.2)\n",
            "Requirement already satisfied: certifi in /usr/local/lib/python3.10/dist-packages (from httpx<1,>=0.23.0->openai) (2024.7.4)\n",
            "Collecting httpcore==1.* (from httpx<1,>=0.23.0->openai)\n",
            "  Downloading httpcore-1.0.5-py3-none-any.whl.metadata (20 kB)\n",
            "Collecting h11<0.15,>=0.13 (from httpcore==1.*->httpx<1,>=0.23.0->openai)\n",
            "  Downloading h11-0.14.0-py3-none-any.whl.metadata (8.2 kB)\n",
            "Requirement already satisfied: annotated-types>=0.4.0 in /usr/local/lib/python3.10/dist-packages (from pydantic<3,>=1.9.0->openai) (0.7.0)\n",
            "Requirement already satisfied: pydantic-core==2.20.1 in /usr/local/lib/python3.10/dist-packages (from pydantic<3,>=1.9.0->openai) (2.20.1)\n",
            "Downloading openai-1.37.1-py3-none-any.whl (337 kB)\n",
            "\u001b[2K   \u001b[90m━━━━━━━━━━━━━━━━━━━━━━━━━━━━━━━━━━━━━━━━\u001b[0m \u001b[32m337.0/337.0 kB\u001b[0m \u001b[31m3.5 MB/s\u001b[0m eta \u001b[36m0:00:00\u001b[0m\n",
            "\u001b[?25hDownloading httpx-0.27.0-py3-none-any.whl (75 kB)\n",
            "\u001b[2K   \u001b[90m━━━━━━━━━━━━━━━━━━━━━━━━━━━━━━━━━━━━━━━━\u001b[0m \u001b[32m75.6/75.6 kB\u001b[0m \u001b[31m6.5 MB/s\u001b[0m eta \u001b[36m0:00:00\u001b[0m\n",
            "\u001b[?25hDownloading httpcore-1.0.5-py3-none-any.whl (77 kB)\n",
            "\u001b[2K   \u001b[90m━━━━━━━━━━━━━━━━━━━━━━━━━━━━━━━━━━━━━━━━\u001b[0m \u001b[32m77.9/77.9 kB\u001b[0m \u001b[31m7.0 MB/s\u001b[0m eta \u001b[36m0:00:00\u001b[0m\n",
            "\u001b[?25hDownloading h11-0.14.0-py3-none-any.whl (58 kB)\n",
            "\u001b[2K   \u001b[90m━━━━━━━━━━━━━━━━━━━━━━━━━━━━━━━━━━━━━━━━\u001b[0m \u001b[32m58.3/58.3 kB\u001b[0m \u001b[31m4.9 MB/s\u001b[0m eta \u001b[36m0:00:00\u001b[0m\n",
            "\u001b[?25hInstalling collected packages: h11, httpcore, httpx, openai\n",
            "Successfully installed h11-0.14.0 httpcore-1.0.5 httpx-0.27.0 openai-1.37.1\n"
          ]
        }
      ],
      "source": [
        "!pip install openai"
      ]
    },
    {
      "cell_type": "code",
      "source": [
        "from openai import OpenAI  # OpenAI 패키지 임포트\n",
        "\n",
        "# OpenAI 클라이언트 인스턴스 생성\n",
        "client = OpenAI(api_key=\"YOUR_API_KEY\")  # 본인의 API 키를 입력하세요"
      ],
      "metadata": {
        "id": "g-gyEXsRUVh4"
      },
      "execution_count": null,
      "outputs": []
    },
    {
      "cell_type": "code",
      "source": [
        "# GPT-4o-mini 모델을 사용하여 전화번호 전처리\n",
        "completion = client.chat.completions.create(\n",
        "    model=\"gpt-4o-mini\",\n",
        "    messages=[\n",
        "        {\"role\": \"system\", \"content\": \"다음 전화번호를 표준 형식(예: 010-1234-5678)으로 변환해줘. 표준 형식만 바로 답해줘.\"},\n",
        "        {\"role\": \"user\", \"content\": \"01061720104\"}\n",
        "    ]\n",
        ")\n",
        "data = completion.choices[0].message  # 첫 번째 응답의 메시지 객체 추출\n",
        "print(data.content)"
      ],
      "metadata": {
        "colab": {
          "base_uri": "https://localhost:8080/"
        },
        "id": "mqp_lYIZUFBa",
        "outputId": "f6bf9039-3cb5-4a7e-df6e-9878629bc311"
      },
      "execution_count": null,
      "outputs": [
        {
          "output_type": "stream",
          "name": "stdout",
          "text": [
            "010-6172-0104\n"
          ]
        }
      ]
    },
    {
      "cell_type": "code",
      "source": [
        "import openai\n",
        "import pandas as pd\n",
        "from tqdm import tqdm\n",
        "\n",
        "# 전화번호 데이터를 엑셀 파일에서 불러오기\n",
        "file_path = 'phone_numbers.xlsx'\n",
        "df = pd.read_excel(file_path)\n",
        "\n",
        "# 전화번호 전처리 함수 정의\n",
        "def preprocess_phone_number(phone_number):\n",
        "    try:\n",
        "        # GPT-4o-mini 모델을 사용하여 전화번호 전처리\n",
        "        completion = client.chat.completions.create(\n",
        "            model=\"gpt-4o-mini\",\n",
        "            messages=[\n",
        "                {\"role\": \"system\", \"content\": \"다음 전화번호를 표준 형식(예: 010-1234-5678)으로 변환해줘. 표준 형식만 바로 답해줘.\"},\n",
        "                {\"role\": \"user\", \"content\": phone_number}\n",
        "            ]\n",
        "        )\n",
        "        data = completion.choices[0].message  # 첫 번째 응답의 메시지 객체 추출\n",
        "        processed_number = data.content  # 메시지 객체의 내용 추출\n",
        "\n",
        "        return processed_number\n",
        "    except:\n",
        "        return None\n",
        "\n",
        "# 전화번호 데이터를 전처리하여 새로운 컬럼에 저장 (진행도 표시)\n",
        "tqdm.pandas()  # tqdm 적용\n",
        "df['전처리된 전화번호'] = df['전화번호'].progress_apply(preprocess_phone_number)\n",
        "\n",
        "# 전처리된 데이터를 엑셀 파일로 저장\n",
        "output_file_path = 'processed_phone_numbers.xlsx'\n",
        "df.to_excel(output_file_path, index=False)\n",
        "\n",
        "print(f\"전처리된 데이터가 '{output_file_path}' 파일에 저장되었습니다.\")"
      ],
      "metadata": {
        "colab": {
          "base_uri": "https://localhost:8080/"
        },
        "id": "9wXXD3PXWV1N",
        "outputId": "a0abadfc-c8e3-45f2-f63c-32aaa22813e0"
      },
      "execution_count": null,
      "outputs": [
        {
          "output_type": "stream",
          "name": "stderr",
          "text": [
            "100%|██████████| 100/100 [00:57<00:00,  1.73it/s]"
          ]
        },
        {
          "output_type": "stream",
          "name": "stdout",
          "text": [
            "전처리된 데이터가 'processed_phone_numbers.xlsx' 파일에 저장되었습니다.\n"
          ]
        },
        {
          "output_type": "stream",
          "name": "stderr",
          "text": [
            "\n"
          ]
        }
      ]
    },
    {
      "cell_type": "code",
      "source": [
        "df"
      ],
      "metadata": {
        "colab": {
          "base_uri": "https://localhost:8080/",
          "height": 423
        },
        "id": "gmokYLVbT8Di",
        "outputId": "a491238f-9632-4dfa-e06c-a6e0053894fa"
      },
      "execution_count": null,
      "outputs": [
        {
          "output_type": "execute_result",
          "data": {
            "text/plain": [
              "             전화번호      전처리된 전화번호\n",
              "0     01061720104  010-6172-0104\n",
              "1   010.3147.5334  010-3147-5334\n",
              "2   010 9537 6457  010-9537-6457\n",
              "3   010 5092 8930  010-5092-8930\n",
              "4     01060339790  010-6033-9790\n",
              "..            ...            ...\n",
              "95  010-5471-6386  010-5471-6386\n",
              "96  010 3767 0526  010-3767-0526\n",
              "97  010-2395-7138  010-2395-7138\n",
              "98  010.6583.9163  010-6583-9163\n",
              "99    01027658001  010-2765-8001\n",
              "\n",
              "[100 rows x 2 columns]"
            ],
            "text/html": [
              "\n",
              "  <div id=\"df-4d65a9be-5ff0-4bce-88b7-8fcb9ae80600\" class=\"colab-df-container\">\n",
              "    <div>\n",
              "<style scoped>\n",
              "    .dataframe tbody tr th:only-of-type {\n",
              "        vertical-align: middle;\n",
              "    }\n",
              "\n",
              "    .dataframe tbody tr th {\n",
              "        vertical-align: top;\n",
              "    }\n",
              "\n",
              "    .dataframe thead th {\n",
              "        text-align: right;\n",
              "    }\n",
              "</style>\n",
              "<table border=\"1\" class=\"dataframe\">\n",
              "  <thead>\n",
              "    <tr style=\"text-align: right;\">\n",
              "      <th></th>\n",
              "      <th>전화번호</th>\n",
              "      <th>전처리된 전화번호</th>\n",
              "    </tr>\n",
              "  </thead>\n",
              "  <tbody>\n",
              "    <tr>\n",
              "      <th>0</th>\n",
              "      <td>01061720104</td>\n",
              "      <td>010-6172-0104</td>\n",
              "    </tr>\n",
              "    <tr>\n",
              "      <th>1</th>\n",
              "      <td>010.3147.5334</td>\n",
              "      <td>010-3147-5334</td>\n",
              "    </tr>\n",
              "    <tr>\n",
              "      <th>2</th>\n",
              "      <td>010 9537 6457</td>\n",
              "      <td>010-9537-6457</td>\n",
              "    </tr>\n",
              "    <tr>\n",
              "      <th>3</th>\n",
              "      <td>010 5092 8930</td>\n",
              "      <td>010-5092-8930</td>\n",
              "    </tr>\n",
              "    <tr>\n",
              "      <th>4</th>\n",
              "      <td>01060339790</td>\n",
              "      <td>010-6033-9790</td>\n",
              "    </tr>\n",
              "    <tr>\n",
              "      <th>...</th>\n",
              "      <td>...</td>\n",
              "      <td>...</td>\n",
              "    </tr>\n",
              "    <tr>\n",
              "      <th>95</th>\n",
              "      <td>010-5471-6386</td>\n",
              "      <td>010-5471-6386</td>\n",
              "    </tr>\n",
              "    <tr>\n",
              "      <th>96</th>\n",
              "      <td>010 3767 0526</td>\n",
              "      <td>010-3767-0526</td>\n",
              "    </tr>\n",
              "    <tr>\n",
              "      <th>97</th>\n",
              "      <td>010-2395-7138</td>\n",
              "      <td>010-2395-7138</td>\n",
              "    </tr>\n",
              "    <tr>\n",
              "      <th>98</th>\n",
              "      <td>010.6583.9163</td>\n",
              "      <td>010-6583-9163</td>\n",
              "    </tr>\n",
              "    <tr>\n",
              "      <th>99</th>\n",
              "      <td>01027658001</td>\n",
              "      <td>010-2765-8001</td>\n",
              "    </tr>\n",
              "  </tbody>\n",
              "</table>\n",
              "<p>100 rows × 2 columns</p>\n",
              "</div>\n",
              "    <div class=\"colab-df-buttons\">\n",
              "\n",
              "  <div class=\"colab-df-container\">\n",
              "    <button class=\"colab-df-convert\" onclick=\"convertToInteractive('df-4d65a9be-5ff0-4bce-88b7-8fcb9ae80600')\"\n",
              "            title=\"Convert this dataframe to an interactive table.\"\n",
              "            style=\"display:none;\">\n",
              "\n",
              "  <svg xmlns=\"http://www.w3.org/2000/svg\" height=\"24px\" viewBox=\"0 -960 960 960\">\n",
              "    <path d=\"M120-120v-720h720v720H120Zm60-500h600v-160H180v160Zm220 220h160v-160H400v160Zm0 220h160v-160H400v160ZM180-400h160v-160H180v160Zm440 0h160v-160H620v160ZM180-180h160v-160H180v160Zm440 0h160v-160H620v160Z\"/>\n",
              "  </svg>\n",
              "    </button>\n",
              "\n",
              "  <style>\n",
              "    .colab-df-container {\n",
              "      display:flex;\n",
              "      gap: 12px;\n",
              "    }\n",
              "\n",
              "    .colab-df-convert {\n",
              "      background-color: #E8F0FE;\n",
              "      border: none;\n",
              "      border-radius: 50%;\n",
              "      cursor: pointer;\n",
              "      display: none;\n",
              "      fill: #1967D2;\n",
              "      height: 32px;\n",
              "      padding: 0 0 0 0;\n",
              "      width: 32px;\n",
              "    }\n",
              "\n",
              "    .colab-df-convert:hover {\n",
              "      background-color: #E2EBFA;\n",
              "      box-shadow: 0px 1px 2px rgba(60, 64, 67, 0.3), 0px 1px 3px 1px rgba(60, 64, 67, 0.15);\n",
              "      fill: #174EA6;\n",
              "    }\n",
              "\n",
              "    .colab-df-buttons div {\n",
              "      margin-bottom: 4px;\n",
              "    }\n",
              "\n",
              "    [theme=dark] .colab-df-convert {\n",
              "      background-color: #3B4455;\n",
              "      fill: #D2E3FC;\n",
              "    }\n",
              "\n",
              "    [theme=dark] .colab-df-convert:hover {\n",
              "      background-color: #434B5C;\n",
              "      box-shadow: 0px 1px 3px 1px rgba(0, 0, 0, 0.15);\n",
              "      filter: drop-shadow(0px 1px 2px rgba(0, 0, 0, 0.3));\n",
              "      fill: #FFFFFF;\n",
              "    }\n",
              "  </style>\n",
              "\n",
              "    <script>\n",
              "      const buttonEl =\n",
              "        document.querySelector('#df-4d65a9be-5ff0-4bce-88b7-8fcb9ae80600 button.colab-df-convert');\n",
              "      buttonEl.style.display =\n",
              "        google.colab.kernel.accessAllowed ? 'block' : 'none';\n",
              "\n",
              "      async function convertToInteractive(key) {\n",
              "        const element = document.querySelector('#df-4d65a9be-5ff0-4bce-88b7-8fcb9ae80600');\n",
              "        const dataTable =\n",
              "          await google.colab.kernel.invokeFunction('convertToInteractive',\n",
              "                                                    [key], {});\n",
              "        if (!dataTable) return;\n",
              "\n",
              "        const docLinkHtml = 'Like what you see? Visit the ' +\n",
              "          '<a target=\"_blank\" href=https://colab.research.google.com/notebooks/data_table.ipynb>data table notebook</a>'\n",
              "          + ' to learn more about interactive tables.';\n",
              "        element.innerHTML = '';\n",
              "        dataTable['output_type'] = 'display_data';\n",
              "        await google.colab.output.renderOutput(dataTable, element);\n",
              "        const docLink = document.createElement('div');\n",
              "        docLink.innerHTML = docLinkHtml;\n",
              "        element.appendChild(docLink);\n",
              "      }\n",
              "    </script>\n",
              "  </div>\n",
              "\n",
              "\n",
              "<div id=\"df-560eff5a-f7b5-4817-9ce0-390a3c375906\">\n",
              "  <button class=\"colab-df-quickchart\" onclick=\"quickchart('df-560eff5a-f7b5-4817-9ce0-390a3c375906')\"\n",
              "            title=\"Suggest charts\"\n",
              "            style=\"display:none;\">\n",
              "\n",
              "<svg xmlns=\"http://www.w3.org/2000/svg\" height=\"24px\"viewBox=\"0 0 24 24\"\n",
              "     width=\"24px\">\n",
              "    <g>\n",
              "        <path d=\"M19 3H5c-1.1 0-2 .9-2 2v14c0 1.1.9 2 2 2h14c1.1 0 2-.9 2-2V5c0-1.1-.9-2-2-2zM9 17H7v-7h2v7zm4 0h-2V7h2v10zm4 0h-2v-4h2v4z\"/>\n",
              "    </g>\n",
              "</svg>\n",
              "  </button>\n",
              "\n",
              "<style>\n",
              "  .colab-df-quickchart {\n",
              "      --bg-color: #E8F0FE;\n",
              "      --fill-color: #1967D2;\n",
              "      --hover-bg-color: #E2EBFA;\n",
              "      --hover-fill-color: #174EA6;\n",
              "      --disabled-fill-color: #AAA;\n",
              "      --disabled-bg-color: #DDD;\n",
              "  }\n",
              "\n",
              "  [theme=dark] .colab-df-quickchart {\n",
              "      --bg-color: #3B4455;\n",
              "      --fill-color: #D2E3FC;\n",
              "      --hover-bg-color: #434B5C;\n",
              "      --hover-fill-color: #FFFFFF;\n",
              "      --disabled-bg-color: #3B4455;\n",
              "      --disabled-fill-color: #666;\n",
              "  }\n",
              "\n",
              "  .colab-df-quickchart {\n",
              "    background-color: var(--bg-color);\n",
              "    border: none;\n",
              "    border-radius: 50%;\n",
              "    cursor: pointer;\n",
              "    display: none;\n",
              "    fill: var(--fill-color);\n",
              "    height: 32px;\n",
              "    padding: 0;\n",
              "    width: 32px;\n",
              "  }\n",
              "\n",
              "  .colab-df-quickchart:hover {\n",
              "    background-color: var(--hover-bg-color);\n",
              "    box-shadow: 0 1px 2px rgba(60, 64, 67, 0.3), 0 1px 3px 1px rgba(60, 64, 67, 0.15);\n",
              "    fill: var(--button-hover-fill-color);\n",
              "  }\n",
              "\n",
              "  .colab-df-quickchart-complete:disabled,\n",
              "  .colab-df-quickchart-complete:disabled:hover {\n",
              "    background-color: var(--disabled-bg-color);\n",
              "    fill: var(--disabled-fill-color);\n",
              "    box-shadow: none;\n",
              "  }\n",
              "\n",
              "  .colab-df-spinner {\n",
              "    border: 2px solid var(--fill-color);\n",
              "    border-color: transparent;\n",
              "    border-bottom-color: var(--fill-color);\n",
              "    animation:\n",
              "      spin 1s steps(1) infinite;\n",
              "  }\n",
              "\n",
              "  @keyframes spin {\n",
              "    0% {\n",
              "      border-color: transparent;\n",
              "      border-bottom-color: var(--fill-color);\n",
              "      border-left-color: var(--fill-color);\n",
              "    }\n",
              "    20% {\n",
              "      border-color: transparent;\n",
              "      border-left-color: var(--fill-color);\n",
              "      border-top-color: var(--fill-color);\n",
              "    }\n",
              "    30% {\n",
              "      border-color: transparent;\n",
              "      border-left-color: var(--fill-color);\n",
              "      border-top-color: var(--fill-color);\n",
              "      border-right-color: var(--fill-color);\n",
              "    }\n",
              "    40% {\n",
              "      border-color: transparent;\n",
              "      border-right-color: var(--fill-color);\n",
              "      border-top-color: var(--fill-color);\n",
              "    }\n",
              "    60% {\n",
              "      border-color: transparent;\n",
              "      border-right-color: var(--fill-color);\n",
              "    }\n",
              "    80% {\n",
              "      border-color: transparent;\n",
              "      border-right-color: var(--fill-color);\n",
              "      border-bottom-color: var(--fill-color);\n",
              "    }\n",
              "    90% {\n",
              "      border-color: transparent;\n",
              "      border-bottom-color: var(--fill-color);\n",
              "    }\n",
              "  }\n",
              "</style>\n",
              "\n",
              "  <script>\n",
              "    async function quickchart(key) {\n",
              "      const quickchartButtonEl =\n",
              "        document.querySelector('#' + key + ' button');\n",
              "      quickchartButtonEl.disabled = true;  // To prevent multiple clicks.\n",
              "      quickchartButtonEl.classList.add('colab-df-spinner');\n",
              "      try {\n",
              "        const charts = await google.colab.kernel.invokeFunction(\n",
              "            'suggestCharts', [key], {});\n",
              "      } catch (error) {\n",
              "        console.error('Error during call to suggestCharts:', error);\n",
              "      }\n",
              "      quickchartButtonEl.classList.remove('colab-df-spinner');\n",
              "      quickchartButtonEl.classList.add('colab-df-quickchart-complete');\n",
              "    }\n",
              "    (() => {\n",
              "      let quickchartButtonEl =\n",
              "        document.querySelector('#df-560eff5a-f7b5-4817-9ce0-390a3c375906 button');\n",
              "      quickchartButtonEl.style.display =\n",
              "        google.colab.kernel.accessAllowed ? 'block' : 'none';\n",
              "    })();\n",
              "  </script>\n",
              "</div>\n",
              "\n",
              "  <div id=\"id_1536b205-6e2f-4430-b2e8-4a9bf3856f4f\">\n",
              "    <style>\n",
              "      .colab-df-generate {\n",
              "        background-color: #E8F0FE;\n",
              "        border: none;\n",
              "        border-radius: 50%;\n",
              "        cursor: pointer;\n",
              "        display: none;\n",
              "        fill: #1967D2;\n",
              "        height: 32px;\n",
              "        padding: 0 0 0 0;\n",
              "        width: 32px;\n",
              "      }\n",
              "\n",
              "      .colab-df-generate:hover {\n",
              "        background-color: #E2EBFA;\n",
              "        box-shadow: 0px 1px 2px rgba(60, 64, 67, 0.3), 0px 1px 3px 1px rgba(60, 64, 67, 0.15);\n",
              "        fill: #174EA6;\n",
              "      }\n",
              "\n",
              "      [theme=dark] .colab-df-generate {\n",
              "        background-color: #3B4455;\n",
              "        fill: #D2E3FC;\n",
              "      }\n",
              "\n",
              "      [theme=dark] .colab-df-generate:hover {\n",
              "        background-color: #434B5C;\n",
              "        box-shadow: 0px 1px 3px 1px rgba(0, 0, 0, 0.15);\n",
              "        filter: drop-shadow(0px 1px 2px rgba(0, 0, 0, 0.3));\n",
              "        fill: #FFFFFF;\n",
              "      }\n",
              "    </style>\n",
              "    <button class=\"colab-df-generate\" onclick=\"generateWithVariable('df')\"\n",
              "            title=\"Generate code using this dataframe.\"\n",
              "            style=\"display:none;\">\n",
              "\n",
              "  <svg xmlns=\"http://www.w3.org/2000/svg\" height=\"24px\"viewBox=\"0 0 24 24\"\n",
              "       width=\"24px\">\n",
              "    <path d=\"M7,19H8.4L18.45,9,17,7.55,7,17.6ZM5,21V16.75L18.45,3.32a2,2,0,0,1,2.83,0l1.4,1.43a1.91,1.91,0,0,1,.58,1.4,1.91,1.91,0,0,1-.58,1.4L9.25,21ZM18.45,9,17,7.55Zm-12,3A5.31,5.31,0,0,0,4.9,8.1,5.31,5.31,0,0,0,1,6.5,5.31,5.31,0,0,0,4.9,4.9,5.31,5.31,0,0,0,6.5,1,5.31,5.31,0,0,0,8.1,4.9,5.31,5.31,0,0,0,12,6.5,5.46,5.46,0,0,0,6.5,12Z\"/>\n",
              "  </svg>\n",
              "    </button>\n",
              "    <script>\n",
              "      (() => {\n",
              "      const buttonEl =\n",
              "        document.querySelector('#id_1536b205-6e2f-4430-b2e8-4a9bf3856f4f button.colab-df-generate');\n",
              "      buttonEl.style.display =\n",
              "        google.colab.kernel.accessAllowed ? 'block' : 'none';\n",
              "\n",
              "      buttonEl.onclick = () => {\n",
              "        google.colab.notebook.generateWithVariable('df');\n",
              "      }\n",
              "      })();\n",
              "    </script>\n",
              "  </div>\n",
              "\n",
              "    </div>\n",
              "  </div>\n"
            ],
            "application/vnd.google.colaboratory.intrinsic+json": {
              "type": "dataframe",
              "variable_name": "df",
              "summary": "{\n  \"name\": \"df\",\n  \"rows\": 100,\n  \"fields\": [\n    {\n      \"column\": \"\\uc804\\ud654\\ubc88\\ud638\",\n      \"properties\": {\n        \"dtype\": \"string\",\n        \"num_unique_values\": 100,\n        \"samples\": [\n          \"010.2591.4209\",\n          \"010 6982 8747\",\n          \"010-0729-3778\"\n        ],\n        \"semantic_type\": \"\",\n        \"description\": \"\"\n      }\n    },\n    {\n      \"column\": \"\\uc804\\ucc98\\ub9ac\\ub41c \\uc804\\ud654\\ubc88\\ud638\",\n      \"properties\": {\n        \"dtype\": \"string\",\n        \"num_unique_values\": 100,\n        \"samples\": [\n          \"010-2591-4209\",\n          \"010-6982-8747\",\n          \"010-729-3778\"\n        ],\n        \"semantic_type\": \"\",\n        \"description\": \"\"\n      }\n    }\n  ]\n}"
            }
          },
          "metadata": {},
          "execution_count": 25
        }
      ]
    },
    {
      "cell_type": "markdown",
      "source": [
        "# **Sentence Transformer로 문장 임베딩하기**"
      ],
      "metadata": {
        "id": "Ly6zqPlOWp9q"
      }
    },
    {
      "cell_type": "code",
      "source": [
        "!pip install sentence_transformers"
      ],
      "metadata": {
        "id": "ZwcjOqskXJeg"
      },
      "execution_count": null,
      "outputs": []
    },
    {
      "cell_type": "code",
      "source": [
        "from sentence_transformers import SentenceTransformer\n",
        "from sklearn.metrics.pairwise import cosine_similarity"
      ],
      "metadata": {
        "colab": {
          "base_uri": "https://localhost:8080/"
        },
        "id": "IZYcUmDrXLma",
        "outputId": "a169b3e1-f5d9-44cf-d82a-b9d0da0cf3f6"
      },
      "execution_count": null,
      "outputs": [
        {
          "output_type": "stream",
          "name": "stderr",
          "text": [
            "/usr/local/lib/python3.10/dist-packages/sentence_transformers/cross_encoder/CrossEncoder.py:11: TqdmExperimentalWarning: Using `tqdm.autonotebook.tqdm` in notebook mode. Use `tqdm.tqdm` instead to force console mode (e.g. in jupyter console)\n",
            "  from tqdm.autonotebook import tqdm, trange\n"
          ]
        }
      ]
    },
    {
      "cell_type": "code",
      "source": [
        "import pandas as pd\n",
        "\n",
        "# 모델 로드\n",
        "model = SentenceTransformer('bespin-global/klue-sroberta-base-continue-learning-by-mnr')\n",
        "\n",
        "# 예시 리뷰 문장들\n",
        "sentences = [\n",
        "    \"이 제품은 정말 훌륭해요! 성능도 좋고 디자인도 예쁩니다.\",\n",
        "    \"배송이 너무 늦었어요. 제품 품질은 괜찮지만 서비스가 아쉽네요.\",\n",
        "    \"가격 대비 성능이 뛰어나요. 다음에도 구매하고 싶습니다.\",\n",
        "    \"상품이 기대했던 것보다 좋지 않습니다. 반품할 예정입니다.\",\n",
        "    \"고객 서비스가 매우 친절하고 도움이 많이 되었습니다.\",\n",
        "    \"제품이 설명과 다르게 작동하지 않아요. 매우 실망했습니다.\",\n",
        "    \"배송도 빠르고 제품도 만족스럽습니다. 추천합니다.\",\n",
        "    \"포장이 부실해서 제품이 파손된 채로 왔어요. 다시 보내주세요.\",\n",
        "    \"디자인이 세련되고 기능도 다양해서 만족합니다.\",\n",
        "    \"사용법이 간단하고 효과가 좋아요. 가족 모두 만족하고 있습니다.\"\n",
        "]\n",
        "\n",
        "# 문장 임베딩 생성\n",
        "embeddings = model.encode(sentences)\n",
        "\n",
        "# 코사인 유사도 계산\n",
        "cosine_similarities = cosine_similarity(embeddings)\n",
        "\n",
        "# 결과를 데이터프레임으로 변환\n",
        "df = pd.DataFrame(cosine_similarities, index=sentences, columns=sentences)"
      ],
      "metadata": {
        "id": "99NqbWMEX9st"
      },
      "execution_count": null,
      "outputs": []
    },
    {
      "cell_type": "code",
      "source": [
        "# 각 컬럼에 대해 상위 3개 값을 출력하는 함수 정의\n",
        "def print_top3_similarities(df):\n",
        "    for column in df.columns:\n",
        "        print(f\"\\n문장: {column}\")\n",
        "        top3 = df[column].nlargest(4).iloc[1:4]  # 자신과의 유사도가 1이기 때문에 제외\n",
        "        for idx, value in top3.items():\n",
        "            print(f\"유사한 문장: {idx} (유사도: {value:.4f})\")\n",
        "\n",
        "# 상위 3개 유사도 출력\n",
        "print_top3_similarities(df)"
      ],
      "metadata": {
        "colab": {
          "base_uri": "https://localhost:8080/"
        },
        "id": "_VvE7PuOX_7F",
        "outputId": "9a328278-7bae-455a-8527-e3f259a2d7ac"
      },
      "execution_count": null,
      "outputs": [
        {
          "output_type": "stream",
          "name": "stdout",
          "text": [
            "\n",
            "문장: 이 제품은 정말 훌륭해요! 성능도 좋고 디자인도 예쁩니다.\n",
            "유사한 문장: 디자인이 세련되고 기능도 다양해서 만족합니다. (유사도: 0.6447)\n",
            "유사한 문장: 가격 대비 성능이 뛰어나요. 다음에도 구매하고 싶습니다. (유사도: 0.3830)\n",
            "유사한 문장: 배송도 빠르고 제품도 만족스럽습니다. 추천합니다. (유사도: 0.2683)\n",
            "\n",
            "문장: 배송이 너무 늦었어요. 제품 품질은 괜찮지만 서비스가 아쉽네요.\n",
            "유사한 문장: 배송도 빠르고 제품도 만족스럽습니다. 추천합니다. (유사도: 0.5954)\n",
            "유사한 문장: 상품이 기대했던 것보다 좋지 않습니다. 반품할 예정입니다. (유사도: 0.4715)\n",
            "유사한 문장: 제품이 설명과 다르게 작동하지 않아요. 매우 실망했습니다. (유사도: 0.4669)\n",
            "\n",
            "문장: 가격 대비 성능이 뛰어나요. 다음에도 구매하고 싶습니다.\n",
            "유사한 문장: 배송도 빠르고 제품도 만족스럽습니다. 추천합니다. (유사도: 0.3886)\n",
            "유사한 문장: 이 제품은 정말 훌륭해요! 성능도 좋고 디자인도 예쁩니다. (유사도: 0.3830)\n",
            "유사한 문장: 제품이 설명과 다르게 작동하지 않아요. 매우 실망했습니다. (유사도: 0.2765)\n",
            "\n",
            "문장: 상품이 기대했던 것보다 좋지 않습니다. 반품할 예정입니다.\n",
            "유사한 문장: 제품이 설명과 다르게 작동하지 않아요. 매우 실망했습니다. (유사도: 0.6128)\n",
            "유사한 문장: 배송이 너무 늦었어요. 제품 품질은 괜찮지만 서비스가 아쉽네요. (유사도: 0.4715)\n",
            "유사한 문장: 포장이 부실해서 제품이 파손된 채로 왔어요. 다시 보내주세요. (유사도: 0.4352)\n",
            "\n",
            "문장: 고객 서비스가 매우 친절하고 도움이 많이 되었습니다.\n",
            "유사한 문장: 배송도 빠르고 제품도 만족스럽습니다. 추천합니다. (유사도: 0.3578)\n",
            "유사한 문장: 배송이 너무 늦었어요. 제품 품질은 괜찮지만 서비스가 아쉽네요. (유사도: 0.2907)\n",
            "유사한 문장: 가격 대비 성능이 뛰어나요. 다음에도 구매하고 싶습니다. (유사도: 0.2021)\n",
            "\n",
            "문장: 제품이 설명과 다르게 작동하지 않아요. 매우 실망했습니다.\n",
            "유사한 문장: 상품이 기대했던 것보다 좋지 않습니다. 반품할 예정입니다. (유사도: 0.6128)\n",
            "유사한 문장: 배송이 너무 늦었어요. 제품 품질은 괜찮지만 서비스가 아쉽네요. (유사도: 0.4669)\n",
            "유사한 문장: 포장이 부실해서 제품이 파손된 채로 왔어요. 다시 보내주세요. (유사도: 0.4168)\n",
            "\n",
            "문장: 배송도 빠르고 제품도 만족스럽습니다. 추천합니다.\n",
            "유사한 문장: 배송이 너무 늦었어요. 제품 품질은 괜찮지만 서비스가 아쉽네요. (유사도: 0.5954)\n",
            "유사한 문장: 가격 대비 성능이 뛰어나요. 다음에도 구매하고 싶습니다. (유사도: 0.3886)\n",
            "유사한 문장: 고객 서비스가 매우 친절하고 도움이 많이 되었습니다. (유사도: 0.3578)\n",
            "\n",
            "문장: 포장이 부실해서 제품이 파손된 채로 왔어요. 다시 보내주세요.\n",
            "유사한 문장: 배송이 너무 늦었어요. 제품 품질은 괜찮지만 서비스가 아쉽네요. (유사도: 0.4447)\n",
            "유사한 문장: 상품이 기대했던 것보다 좋지 않습니다. 반품할 예정입니다. (유사도: 0.4352)\n",
            "유사한 문장: 제품이 설명과 다르게 작동하지 않아요. 매우 실망했습니다. (유사도: 0.4168)\n",
            "\n",
            "문장: 디자인이 세련되고 기능도 다양해서 만족합니다.\n",
            "유사한 문장: 이 제품은 정말 훌륭해요! 성능도 좋고 디자인도 예쁩니다. (유사도: 0.6447)\n",
            "유사한 문장: 사용법이 간단하고 효과가 좋아요. 가족 모두 만족하고 있습니다. (유사도: 0.2415)\n",
            "유사한 문장: 배송도 빠르고 제품도 만족스럽습니다. 추천합니다. (유사도: 0.2256)\n",
            "\n",
            "문장: 사용법이 간단하고 효과가 좋아요. 가족 모두 만족하고 있습니다.\n",
            "유사한 문장: 배송도 빠르고 제품도 만족스럽습니다. 추천합니다. (유사도: 0.2563)\n",
            "유사한 문장: 디자인이 세련되고 기능도 다양해서 만족합니다. (유사도: 0.2415)\n",
            "유사한 문장: 가격 대비 성능이 뛰어나요. 다음에도 구매하고 싶습니다. (유사도: 0.2008)\n"
          ]
        }
      ]
    },
    {
      "cell_type": "markdown",
      "source": [
        "# **과제**"
      ],
      "metadata": {
        "id": "YaciLe9eYp6Q"
      }
    },
    {
      "cell_type": "markdown",
      "source": [
        "GPT API나 SentenceTransformer, 혹은 Huggingface Spaces의 모델들을 탐구해보고 보고서를 작성해주세요. 보고서는 GPT API의 기능 활용 사례 탐구, GPT API의 여러 기능 탐구, SentenceTransformer의 기능 활용 사례 탐구, SentenceTransformer 모델들의 성능 실험, Huggingface Spaces 모델들 Use Case 탐구, 사용 후기 등 자유롭게 해주세요.\n",
        "\n",
        "**채점 기준**\n",
        "\n",
        "- 분량 (띄어쓰기 포함이나, 합당한 띄어쓰기여야 함.):\n",
        "  - 0 ~ 100자: 0점\n",
        "  - 101 ~ 200자: 10점\n",
        "  - 201 ~ 300자: 20점\n",
        "  - 301 ~ 500자: 30점\n",
        "  - 501 ~ 700자: 40점\n",
        "  - 701 ~ 1000자: 50점\n",
        "- 탐구 내용: 50점 만점으로 정성 평가"
      ],
      "metadata": {
        "id": "DdUn6lr3YrmD"
      }
    },
    {
      "cell_type": "markdown",
      "source": [],
      "metadata": {
        "id": "iKeB0WUIY8XJ"
      }
    }
  ]
}